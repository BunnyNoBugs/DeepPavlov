{
 "cells": [
  {
   "cell_type": "code",
   "execution_count": 68,
   "metadata": {},
   "outputs": [],
   "source": [
    "from datasets import load_dataset\n",
    "import json\n",
    "import pandas as pd\n",
    "import spacy\n",
    "from nltk.tokenize.toktok import ToktokTokenizer\n",
    "from nltk.tokenize.treebank import TreebankWordTokenizer\n",
    "from itertools import chain"
   ]
  },
  {
   "cell_type": "code",
   "execution_count": 30,
   "metadata": {},
   "outputs": [
    {
     "data": {
      "text/plain": [
       "[(0, 4), (5, 9), (10, 14), (14, 15)]"
      ]
     },
     "execution_count": 30,
     "metadata": {},
     "output_type": "execute_result"
    }
   ],
   "source": [
    "list(TreebankWordTokenizer().span_tokenize('Мама мыла раму.'))"
   ]
  },
  {
   "cell_type": "code",
   "execution_count": 105,
   "metadata": {},
   "outputs": [],
   "source": [
    "a = pd.read_json('../zhenya_dataset/dstc2-tst.jsonlist', encoding='utf-8', lines=True)"
   ]
  },
  {
   "cell_type": "code",
   "execution_count": 121,
   "metadata": {},
   "outputs": [
    {
     "data": {
      "text/plain": [
       "speaker                                                        2\n",
       "text           В каком районе вы хотите покушать? (к сожалени...\n",
       "dialog_acts               [{'act': 'request_area', 'slots': []}]\n",
       "goals                                                        NaN\n",
       "slots                                                        NaN\n",
       "db_result                                                    NaN\n",
       "Name: 2, dtype: object"
      ]
     },
     "execution_count": 121,
     "metadata": {},
     "output_type": "execute_result"
    }
   ],
   "source": [
    "a[a['text'].apply(lambda x: 'доступна только верхняя зона' in x)].iloc[0]"
   ]
  },
  {
   "cell_type": "code",
   "execution_count": 90,
   "metadata": {},
   "outputs": [
    {
     "data": {
      "text/plain": [
       "['slot', 'адрес']"
      ]
     },
     "execution_count": 90,
     "metadata": {},
     "output_type": "execute_result"
    }
   ],
   "source": [
    "list(chain(a['dialog_acts'].iloc[6][0]['slots'][0]))"
   ]
  },
  {
   "cell_type": "code",
   "execution_count": 97,
   "metadata": {},
   "outputs": [],
   "source": [
    "a = a[a['dialog_acts'].apply(lambda x: bool(x[0]['slots']))]"
   ]
  },
  {
   "cell_type": "code",
   "execution_count": 98,
   "metadata": {},
   "outputs": [
    {
     "data": {
      "text/html": [
       "<div>\n",
       "<style scoped>\n",
       "    .dataframe tbody tr th:only-of-type {\n",
       "        vertical-align: middle;\n",
       "    }\n",
       "\n",
       "    .dataframe tbody tr th {\n",
       "        vertical-align: top;\n",
       "    }\n",
       "\n",
       "    .dataframe thead th {\n",
       "        text-align: right;\n",
       "    }\n",
       "</style>\n",
       "<table border=\"1\" class=\"dataframe\">\n",
       "  <thead>\n",
       "    <tr style=\"text-align: right;\">\n",
       "      <th></th>\n",
       "      <th>speaker</th>\n",
       "      <th>text</th>\n",
       "      <th>dialog_acts</th>\n",
       "      <th>goals</th>\n",
       "      <th>slots</th>\n",
       "      <th>db_result</th>\n",
       "    </tr>\n",
       "  </thead>\n",
       "  <tbody>\n",
       "    <tr>\n",
       "      <td>6</td>\n",
       "      <td>1</td>\n",
       "      <td>какой у них адрес</td>\n",
       "      <td>[{'act': 'request', 'slots': [['slot', 'адрес'...</td>\n",
       "      <td>{'food': 'европейская', 'area': 'верхняя зона'...</td>\n",
       "      <td>[[slot, адрес]]</td>\n",
       "      <td>NaN</td>\n",
       "    </tr>\n",
       "    <tr>\n",
       "      <td>8</td>\n",
       "      <td>1</td>\n",
       "      <td>какой номер телефона</td>\n",
       "      <td>[{'act': 'request', 'slots': [['slot', 'телефо...</td>\n",
       "      <td>{'food': 'европейская', 'area': 'верхняя зона'...</td>\n",
       "      <td>[[slot, телефон]]</td>\n",
       "      <td>NaN</td>\n",
       "    </tr>\n",
       "    <tr>\n",
       "      <td>20</td>\n",
       "      <td>1</td>\n",
       "      <td>могу я узнать адрес</td>\n",
       "      <td>[{'act': 'request', 'slots': [['slot', 'адрес'...</td>\n",
       "      <td>{'pricerange': 'средний', 'this': 'dontcare', ...</td>\n",
       "      <td>[[slot, адрес]]</td>\n",
       "      <td>NaN</td>\n",
       "    </tr>\n",
       "    <tr>\n",
       "      <td>22</td>\n",
       "      <td>1</td>\n",
       "      <td>и какой у них номер телефона</td>\n",
       "      <td>[{'act': 'request', 'slots': [['slot', 'телефо...</td>\n",
       "      <td>{'pricerange': 'средний', 'this': 'dontcare', ...</td>\n",
       "      <td>[[slot, телефон]]</td>\n",
       "      <td>NaN</td>\n",
       "    </tr>\n",
       "    <tr>\n",
       "      <td>34</td>\n",
       "      <td>1</td>\n",
       "      <td>номер телефона</td>\n",
       "      <td>[{'act': 'request', 'slots': [['slot', 'телефо...</td>\n",
       "      <td>{'area': 'верхняя зона', 'this': 'dontcare', '...</td>\n",
       "      <td>[[slot, телефон]]</td>\n",
       "      <td>NaN</td>\n",
       "    </tr>\n",
       "    <tr>\n",
       "      <td>...</td>\n",
       "      <td>...</td>\n",
       "      <td>...</td>\n",
       "      <td>...</td>\n",
       "      <td>...</td>\n",
       "      <td>...</td>\n",
       "      <td>...</td>\n",
       "    </tr>\n",
       "    <tr>\n",
       "      <td>1727</td>\n",
       "      <td>1</td>\n",
       "      <td>могу я узнать почтовый индекс</td>\n",
       "      <td>[{'act': 'request', 'slots': [['slot', 'почтов...</td>\n",
       "      <td>{'pricerange': 'средний', 'area': 'верхняя зон...</td>\n",
       "      <td>[[slot, postcode]]</td>\n",
       "      <td>NaN</td>\n",
       "    </tr>\n",
       "    <tr>\n",
       "      <td>1735</td>\n",
       "      <td>1</td>\n",
       "      <td>и какая у них ценовая категория.</td>\n",
       "      <td>[{'act': 'request', 'slots': [['slot', 'ценова...</td>\n",
       "      <td>{'area': 'верхняя зона', 'slot': 'pricerange'}</td>\n",
       "      <td>[[slot, pricerange]]</td>\n",
       "      <td>NaN</td>\n",
       "    </tr>\n",
       "    <tr>\n",
       "      <td>1742</td>\n",
       "      <td>1</td>\n",
       "      <td>окей могу я узнать адрес</td>\n",
       "      <td>[{'act': 'request', 'slots': [['slot', 'адрес'...</td>\n",
       "      <td>{'area': 'верхняя зона', 'slot': 'адрес', 'pri...</td>\n",
       "      <td>[[slot, адрес]]</td>\n",
       "      <td>NaN</td>\n",
       "    </tr>\n",
       "    <tr>\n",
       "      <td>1744</td>\n",
       "      <td>1</td>\n",
       "      <td>и могу я узнать почтовый индекс</td>\n",
       "      <td>[{'act': 'request', 'slots': [['slot', 'почтов...</td>\n",
       "      <td>{'area': 'верхняя зона', 'slot': 'postcode', '...</td>\n",
       "      <td>[[slot, postcode]]</td>\n",
       "      <td>NaN</td>\n",
       "    </tr>\n",
       "    <tr>\n",
       "      <td>1754</td>\n",
       "      <td>1</td>\n",
       "      <td>могу я узнать номер телефона</td>\n",
       "      <td>[{'act': 'request', 'slots': [['slot', 'телефо...</td>\n",
       "      <td>{'area': 'верхняя зона', 'pricerange': 'дешевы...</td>\n",
       "      <td>[[slot, телефон]]</td>\n",
       "      <td>NaN</td>\n",
       "    </tr>\n",
       "  </tbody>\n",
       "</table>\n",
       "<p>202 rows × 6 columns</p>\n",
       "</div>"
      ],
      "text/plain": [
       "      speaker                              text  \\\n",
       "6           1                 какой у них адрес   \n",
       "8           1              какой номер телефона   \n",
       "20          1               могу я узнать адрес   \n",
       "22          1      и какой у них номер телефона   \n",
       "34          1                    номер телефона   \n",
       "...       ...                               ...   \n",
       "1727        1     могу я узнать почтовый индекс   \n",
       "1735        1  и какая у них ценовая категория.   \n",
       "1742        1          окей могу я узнать адрес   \n",
       "1744        1   и могу я узнать почтовый индекс   \n",
       "1754        1      могу я узнать номер телефона   \n",
       "\n",
       "                                            dialog_acts  \\\n",
       "6     [{'act': 'request', 'slots': [['slot', 'адрес'...   \n",
       "8     [{'act': 'request', 'slots': [['slot', 'телефо...   \n",
       "20    [{'act': 'request', 'slots': [['slot', 'адрес'...   \n",
       "22    [{'act': 'request', 'slots': [['slot', 'телефо...   \n",
       "34    [{'act': 'request', 'slots': [['slot', 'телефо...   \n",
       "...                                                 ...   \n",
       "1727  [{'act': 'request', 'slots': [['slot', 'почтов...   \n",
       "1735  [{'act': 'request', 'slots': [['slot', 'ценова...   \n",
       "1742  [{'act': 'request', 'slots': [['slot', 'адрес'...   \n",
       "1744  [{'act': 'request', 'slots': [['slot', 'почтов...   \n",
       "1754  [{'act': 'request', 'slots': [['slot', 'телефо...   \n",
       "\n",
       "                                                  goals                 slots  \\\n",
       "6     {'food': 'европейская', 'area': 'верхняя зона'...       [[slot, адрес]]   \n",
       "8     {'food': 'европейская', 'area': 'верхняя зона'...     [[slot, телефон]]   \n",
       "20    {'pricerange': 'средний', 'this': 'dontcare', ...       [[slot, адрес]]   \n",
       "22    {'pricerange': 'средний', 'this': 'dontcare', ...     [[slot, телефон]]   \n",
       "34    {'area': 'верхняя зона', 'this': 'dontcare', '...     [[slot, телефон]]   \n",
       "...                                                 ...                   ...   \n",
       "1727  {'pricerange': 'средний', 'area': 'верхняя зон...    [[slot, postcode]]   \n",
       "1735     {'area': 'верхняя зона', 'slot': 'pricerange'}  [[slot, pricerange]]   \n",
       "1742  {'area': 'верхняя зона', 'slot': 'адрес', 'pri...       [[slot, адрес]]   \n",
       "1744  {'area': 'верхняя зона', 'slot': 'postcode', '...    [[slot, postcode]]   \n",
       "1754  {'area': 'верхняя зона', 'pricerange': 'дешевы...     [[slot, телефон]]   \n",
       "\n",
       "     db_result  \n",
       "6          NaN  \n",
       "8          NaN  \n",
       "20         NaN  \n",
       "22         NaN  \n",
       "34         NaN  \n",
       "...        ...  \n",
       "1727       NaN  \n",
       "1735       NaN  \n",
       "1742       NaN  \n",
       "1744       NaN  \n",
       "1754       NaN  \n",
       "\n",
       "[202 rows x 6 columns]"
      ]
     },
     "execution_count": 98,
     "metadata": {},
     "output_type": "execute_result"
    }
   ],
   "source": [
    "a[a['dialog_acts'].apply(lambda x: 'slot' in list(chain(x[0]['slots'][0])))]"
   ]
  },
  {
   "cell_type": "code",
   "execution_count": 102,
   "metadata": {},
   "outputs": [
    {
     "data": {
      "text/plain": [
       "[3, 7]"
      ]
     },
     "execution_count": 102,
     "metadata": {},
     "output_type": "execute_result"
    }
   ],
   "source": [
    "b = [[1, 2], [3, 4]]\n",
    "c = [m + n for m, n in b]\n",
    "c"
   ]
  },
  {
   "cell_type": "code",
   "execution_count": 67,
   "metadata": {},
   "outputs": [
    {
     "data": {
      "text/plain": [
       "[{'act': 'api_call',\n",
       "  'slots': [['area', 'верхняя зона'], ['food', 'европейская']]}]"
      ]
     },
     "execution_count": 67,
     "metadata": {},
     "output_type": "execute_result"
    }
   ],
   "source": [
    "a[]"
   ]
  },
  {
   "cell_type": "code",
   "execution_count": null,
   "metadata": {},
   "outputs": [],
   "source": [
    "a['act'] = a['dialog_acts'].apply(lambda x: x[0]['act'])"
   ]
  },
  {
   "cell_type": "code",
   "execution_count": 13,
   "metadata": {},
   "outputs": [
    {
     "data": {
      "text/plain": [
       "25"
      ]
     },
     "execution_count": 13,
     "metadata": {},
     "output_type": "execute_result"
    }
   ],
   "source": [
    "acts = set()\n",
    "for i in a['act'].apply(lambda x: x.split('+')):\n",
    "    acts.update(i)\n",
    "len(acts)"
   ]
  },
  {
   "cell_type": "code",
   "execution_count": 12,
   "metadata": {},
   "outputs": [
    {
     "data": {
      "text/plain": [
       "set()"
      ]
     },
     "execution_count": 12,
     "metadata": {},
     "output_type": "execute_result"
    }
   ],
   "source": [
    "set() "
   ]
  },
  {
   "cell_type": "code",
   "execution_count": 35,
   "metadata": {},
   "outputs": [
    {
     "data": {
      "text/plain": [
       "31"
      ]
     },
     "execution_count": 35,
     "metadata": {},
     "output_type": "execute_result"
    }
   ],
   "source": [
    "len(a['act'].unique())"
   ]
  },
  {
   "cell_type": "code",
   "execution_count": 19,
   "metadata": {},
   "outputs": [
    {
     "data": {
      "text/plain": [
       "27"
      ]
     },
     "execution_count": 19,
     "metadata": {},
     "output_type": "execute_result"
    }
   ],
   "source": [
    "a[a['speaker'] == 2]['text'].apply(lambda x: len(x.split())).max()"
   ]
  },
  {
   "cell_type": "code",
   "execution_count": 21,
   "metadata": {},
   "outputs": [
    {
     "data": {
      "text/plain": [
       "list"
      ]
     },
     "execution_count": 21,
     "metadata": {},
     "output_type": "execute_result"
    }
   ],
   "source": [
    "type(a['dialog_acts'][0])"
   ]
  },
  {
   "cell_type": "code",
   "execution_count": 2,
   "metadata": {},
   "outputs": [],
   "source": [
    "nlp = spacy.load(\"ru_core_news_sm\")"
   ]
  },
  {
   "cell_type": "code",
   "execution_count": 3,
   "metadata": {},
   "outputs": [],
   "source": [
    "doc = nlp('Какую кухню предпочитаете')"
   ]
  },
  {
   "cell_type": "code",
   "execution_count": 5,
   "metadata": {},
   "outputs": [
    {
     "name": "stdout",
     "output_type": "stream",
     "text": [
      "какой\n",
      "кухня\n",
      "предпочитаете\n"
     ]
    }
   ],
   "source": [
    "for t in doc:\n",
    "    print(t.lemma_)"
   ]
  }
 ],
 "metadata": {
  "kernelspec": {
   "display_name": "Python 3",
   "language": "python",
   "name": "python3"
  },
  "language_info": {
   "codemirror_mode": {
    "name": "ipython",
    "version": 3
   },
   "file_extension": ".py",
   "mimetype": "text/x-python",
   "name": "python",
   "nbconvert_exporter": "python",
   "pygments_lexer": "ipython3",
   "version": "3.7.4"
  }
 },
 "nbformat": 4,
 "nbformat_minor": 4
}
